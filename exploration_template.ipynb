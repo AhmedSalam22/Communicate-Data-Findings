{
 "cells": [
  {
   "cell_type": "markdown",
   "metadata": {},
   "source": [
    "# COVID-19 Data Exploration \n",
    "## by Ahmed Maher\n",
    "\n",
    "## Preliminary Wrangling\n",
    "\n",
    "> This dataset includes COVID-19 cases per day and total cases and other information which may help us to find any relation between variable or What's going on across the different continent                        \n",
    " [source](https://ourworldindata.org/coronavirus-source-data) has 30116 rows after removing nulls value before nulls it was(31074 rows).<br>\n",
    " <p style=\"color:red;\">\n",
    "**this date from 2019-12-31 to 2020-07-18**\n",
    " </p>"
   ]
  },
  {
   "cell_type": "code",
   "execution_count": 1,
   "metadata": {},
   "outputs": [],
   "source": [
    "# import all packages and set plots to be embedded inline\n",
    "import numpy as np\n",
    "import pandas as pd\n",
    "import matplotlib.pyplot as plt\n",
    "import seaborn as sb\n",
    "\n",
    "%matplotlib inline"
   ]
  },
  {
   "cell_type": "code",
   "execution_count": 2,
   "metadata": {},
   "outputs": [],
   "source": [
    "df = pd.read_csv(\"owid-covid-data.csv\" )"
   ]
  },
  {
   "cell_type": "code",
   "execution_count": 4,
   "metadata": {
    "scrolled": true
   },
   "outputs": [
    {
     "name": "stdout",
     "output_type": "stream",
     "text": [
      "<class 'pandas.core.frame.DataFrame'>\n",
      "RangeIndex: 31074 entries, 0 to 31073\n",
      "Data columns (total 34 columns):\n",
      " #   Column                           Non-Null Count  Dtype  \n",
      "---  ------                           --------------  -----  \n",
      " 0   iso_code                         31010 non-null  object \n",
      " 1   continent                        30809 non-null  object \n",
      " 2   location                         31074 non-null  object \n",
      " 3   date                             31074 non-null  object \n",
      " 4   total_cases                      30750 non-null  float64\n",
      " 5   new_cases                        30750 non-null  float64\n",
      " 6   total_deaths                     30750 non-null  float64\n",
      " 7   new_deaths                       30750 non-null  float64\n",
      " 8   total_cases_per_million          30686 non-null  float64\n",
      " 9   new_cases_per_million            30686 non-null  float64\n",
      " 10  total_deaths_per_million         30686 non-null  float64\n",
      " 11  new_deaths_per_million           30686 non-null  float64\n",
      " 12  total_tests                      9659 non-null   float64\n",
      " 13  new_tests                        9380 non-null   float64\n",
      " 14  total_tests_per_thousand         9659 non-null   float64\n",
      " 15  new_tests_per_thousand           9380 non-null   float64\n",
      " 16  new_tests_smoothed               10494 non-null  float64\n",
      " 17  new_tests_smoothed_per_thousand  10494 non-null  float64\n",
      " 18  tests_units                      11250 non-null  object \n",
      " 19  stringency_index                 25221 non-null  float64\n",
      " 20  population                       31010 non-null  float64\n",
      " 21  population_density               29689 non-null  float64\n",
      " 22  median_age                       27995 non-null  float64\n",
      " 23  aged_65_older                    27593 non-null  float64\n",
      " 24  aged_70_older                    27851 non-null  float64\n",
      " 25  gdp_per_capita                   27663 non-null  float64\n",
      " 26  extreme_poverty                  18498 non-null  float64\n",
      " 27  cvd_death_rate                   28011 non-null  float64\n",
      " 28  diabetes_prevalence              28949 non-null  float64\n",
      " 29  female_smokers                   22301 non-null  float64\n",
      " 30  male_smokers                     22037 non-null  float64\n",
      " 31  handwashing_facilities           12752 non-null  float64\n",
      " 32  hospital_beds_per_thousand       25513 non-null  float64\n",
      " 33  life_expectancy                  30641 non-null  float64\n",
      "dtypes: float64(29), object(5)\n",
      "memory usage: 8.1+ MB\n"
     ]
    }
   ],
   "source": [
    "df.info()"
   ]
  },
  {
   "cell_type": "code",
   "execution_count": 5,
   "metadata": {},
   "outputs": [
    {
     "data": {
      "text/plain": [
       "(Timestamp('2019-12-31 00:00:00'), Timestamp('2020-07-18 00:00:00'))"
      ]
     },
     "execution_count": 5,
     "metadata": {},
     "output_type": "execute_result"
    }
   ],
   "source": [
    "interested_features = [\n",
    "    \"continent\", \"location\", \"date\", \"total_cases\", \"new_cases\" , \"total_deaths\" , \"new_deaths\" , \"total_cases_per_million\"\n",
    "    , \"total_deaths_per_million\" , \"new_deaths_per_million\" , \"population\" , \"life_expectancy\"\n",
    "]\n",
    "\n",
    "df = df[interested_features]\n",
    "\n",
    "df.dropna(inplace=True)\n",
    "df[\"date\"] = pd.to_datetime(df[\"date\"])\n",
    "(df[\"date\"].min() , df[\"date\"].max() )"
   ]
  },
  {
   "cell_type": "markdown",
   "metadata": {},
   "source": [
    "### What is the structure of your dataset?\n",
    "\n",
    "> There are 31,074 entries in the dataset with 34 features  Most variables are numeric in nature \n",
    "\n",
    "### What is/are the main feature(s) of interest in your dataset?\n",
    "\n",
    "> I interested in <br>\n",
    "(continent, location, date, total_cases, new_cases  , total_deaths , new_deaths , total_cases_per_million   , total_deaths_per_million  , new_deaths_per_million  , population  , life_expectancy ) <br>\n",
    "_since  they have a lower number of missing values which increase the reliability of our insights_\n",
    "\n",
    "\n",
    "### What features in the dataset do you think will help support your investigation into your feature(s) of interest?\n",
    "\n",
    "> `continent` which leads us to know where is the lower cases happen and I think the Arab World has the lower number of cases comparing with the foreign continent . Most of Arab word located on Africa and Asia <hr><br>\n",
    "`date`   to know how number of cases per day distributed  <hr><br>\n",
    "`total_cases`  which country has the most number of cases.  we can talk into our account the population to know if the country with high population help the virus to spread quickly. we can use this also to graph pie chart across different continent  <hr><br>         \n",
    "`life_expectancy`to see    if there is a relationship between life_expectancy   and the spread of the viruses <hr><br>   \n",
    "`new_deaths`      we can depict the line chart where the x-axis is the time and y-axis is the new_deaths  in the continent"
   ]
  },
  {
   "cell_type": "markdown",
   "metadata": {},
   "source": [
    "## Univariate Exploration\n",
    "\n",
    "> In this section, investigate distributions of individual variables. If\n",
    "you see unusual points or outliers, take a deeper look to clean things up\n",
    "and prepare yourself to look at relationships between variables."
   ]
  },
  {
   "cell_type": "code",
   "execution_count": 6,
   "metadata": {},
   "outputs": [],
   "source": [
    "life_expectancy = (df.groupby([\"continent\"])[\"life_expectancy\"]\n",
    "                   .mean()\n",
    "                   .reset_index()\n",
    "                   .sort_values(\"life_expectancy\" , ascending = False)\n",
    "                  )\n",
    " "
   ]
  },
  {
   "cell_type": "code",
   "execution_count": null,
   "metadata": {},
   "outputs": [
    {
     "data": {
      "image/png": "[encoded data removed]",
      "text/plain": [
       "<Figure size 432x288 with 1 Axes>"
      ]
     },
     "metadata": {
      "needs_background": "light"
     },
     "output_type": "display_data"
    }
   ],
   "source": [
    "# color = blue \n",
    "# it's a good idea to simplify the plot and reduce unnecessary distractions by plotting all bars in the same color\n",
    "base_color = sb.color_palette()[0]\n",
    "\n",
    "sb.barplot(data = life_expectancy , y=\"continent\" , x=\"life_expectancy\" , color=base_color);\n",
    "\n",
    "\n",
    "# put a text ( life_expectancy ) on bar \n",
    "locs, labels = plt.yticks()\n",
    "count = 0\n",
    "\n",
    "for loc, label in zip(locs, labels):\n",
    "    plt.text(loc + 1 ,\n",
    "             count, \n",
    "             \"{0:.2f}\".format(life_expectancy.query(\"continent == @label.get_text()\")[\"life_expectancy\"].values[0]) ,\n",
    "             color = \"w\"  ,\n",
    "             fontsize=12)\n",
    "    count +=1\n",
    "\n"
   ]
  },
  {
   "cell_type": "markdown",
   "metadata": {},
   "source": [
    "> depict bar chart for life_expectancy at each country to investigate if there is a kind of relationship between this variable and death per day or other variables \n",
    "- we can see that Africa has the lowest life_expectancy where Europ has the highest life_expectancy"
   ]
  },
  {
   "cell_type": "code",
   "execution_count": null,
   "metadata": {},
   "outputs": [],
   "source": []
  },
  {
   "cell_type": "markdown",
   "metadata": {},
   "source": [
    "### Discuss the distribution(s) of your variable(s) of interest. Were there any unusual points? Did you need to perform any transformations?\n",
    "\n",
    "> Your answer here!\n",
    "\n",
    "### Of the features you investigated, were there any unusual distributions? Did you perform any operations on the data to tidy, adjust, or change the form of the data? If so, why did you do this?\n",
    "\n",
    "> Your answer here!"
   ]
  },
  {
   "cell_type": "markdown",
   "metadata": {},
   "source": [
    "## Bivariate Exploration\n",
    "\n",
    "> In this section, investigate relationships between pairs of variables in your\n",
    "data. Make sure the variables that you cover here have been introduced in some\n",
    "fashion in the previous section (univariate exploration)."
   ]
  },
  {
   "cell_type": "code",
   "execution_count": null,
   "metadata": {},
   "outputs": [],
   "source": []
  },
  {
   "cell_type": "markdown",
   "metadata": {},
   "source": [
    "### Talk about some of the relationships you observed in this part of the investigation. How did the feature(s) of interest vary with other features in the dataset?\n",
    "\n",
    "> Your answer here!\n",
    "\n",
    "### Did you observe any interesting relationships between the other features (not the main feature(s) of interest)?\n",
    "\n",
    "> Your answer here!"
   ]
  },
  {
   "cell_type": "markdown",
   "metadata": {},
   "source": [
    "## Multivariate Exploration\n",
    "\n",
    "> Create plots of three or more variables to investigate your data even\n",
    "further. Make sure that your investigations are justified, and follow from\n",
    "your work in the previous sections."
   ]
  },
  {
   "cell_type": "code",
   "execution_count": null,
   "metadata": {},
   "outputs": [],
   "source": []
  },
  {
   "cell_type": "markdown",
   "metadata": {},
   "source": [
    "### Talk about some of the relationships you observed in this part of the investigation. Were there features that strengthened each other in terms of looking at your feature(s) of interest?\n",
    "\n",
    "> Your answer here!\n",
    "\n",
    "### Were there any interesting or surprising interactions between features?\n",
    "\n",
    "> Your answer here!"
   ]
  },
  {
   "cell_type": "markdown",
   "metadata": {},
   "source": [
    "> At the end of your report, make sure that you export the notebook as an\n",
    "html file from the `File > Download as... > HTML` menu. Make sure you keep\n",
    "track of where the exported file goes, so you can put it in the same folder\n",
    "as this notebook for project submission. Also, make sure you remove all of\n",
    "the quote-formatted guide notes like this one before you finish your report!"
   ]
  },
  {
   "cell_type": "code",
   "execution_count": null,
   "metadata": {},
   "outputs": [],
   "source": []
  }
 ],
 "metadata": {
  "kernelspec": {
   "display_name": "Python 3",
   "language": "python",
   "name": "python3"
  },
  "language_info": {
   "codemirror_mode": {
    "name": "ipython",
    "version": 3
   },
   "file_extension": ".py",
   "mimetype": "text/x-python",
   "name": "python",
   "nbconvert_exporter": "python",
   "pygments_lexer": "ipython3",
   "version": "3.8.3"
  }
 },
 "nbformat": 4,
 "nbformat_minor": 2
}
